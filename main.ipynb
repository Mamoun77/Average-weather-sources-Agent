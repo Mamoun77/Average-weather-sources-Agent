{
 "cells": [
  {
   "cell_type": "code",
   "execution_count": 2,
   "id": "04af0d4f",
   "metadata": {},
   "outputs": [
    {
     "data": {
      "text/plain": [
       "True"
      ]
     },
     "execution_count": 2,
     "metadata": {},
     "output_type": "execute_result"
    }
   ],
   "source": [
    "from langgraph.graph import StateGraph, END, START\n",
    "from langchain_core.prompts import ChatPromptTemplate\n",
    "from langchain_google_genai import ChatGoogleGenerativeAI\n",
    "from dotenv import load_dotenv\n",
    "import os\n",
    "\n",
    "load_dotenv('credintials.env')"
   ]
  },
  {
   "cell_type": "code",
   "execution_count": 3,
   "id": "befbd54b",
   "metadata": {},
   "outputs": [],
   "source": [
    "# setting up the LLM\n",
    "\n",
    "llm = ChatGoogleGenerativeAI(\n",
    "    model=\"gemini-2.5-flash-lite\",\n",
    "    google_api_key=os.getenv(\"GOOGLE_API_KEY\")\n",
    ")"
   ]
  },
  {
   "cell_type": "code",
   "execution_count": 11,
   "id": "e8966a5f",
   "metadata": {},
   "outputs": [],
   "source": [
    "from pydantic import BaseModel, Field\n",
    "from typing import Literal, List\n",
    "\n",
    "class OrchestratorFormater(BaseModel):\n",
    "    city_name: str = Field(description=\"The name of the city to get the weather for.\")"
   ]
  },
  {
   "cell_type": "code",
   "execution_count": 15,
   "id": "93ae0755",
   "metadata": {},
   "outputs": [],
   "source": [
    "import requests\n",
    "\n",
    "def get_location_key(city_name, api_key):\n",
    "    \"\"\"Convert city name to AccuWeather location key\"\"\"\n",
    "    url = \"http://dataservice.accuweather.com/locations/v1/cities/search\"\n",
    "    params = {\n",
    "        \"apikey\": api_key,\n",
    "        \"q\": city_name\n",
    "    }\n",
    "    \n",
    "    response = requests.get(url, params=params)\n",
    "    data = response.json()\n",
    "\n",
    "    # print(data)  # See what you're getting\n",
    "\n",
    "\n",
    "    if data:\n",
    "        return data[0][\"Key\"]  # Returns location key\n",
    "    return None"
   ]
  },
  {
   "cell_type": "code",
   "execution_count": 16,
   "id": "38c3a4cf",
   "metadata": {},
   "outputs": [],
   "source": [
    "weather_prompt = ChatPromptTemplate.from_messages([\n",
    "    (\"system\", \"You are a weather agent that provides weather information based on user queries, you should extract the city name from the user query.\"),\n",
    "    (\"user\", \"{query}\")\n",
    "])"
   ]
  },
  {
   "cell_type": "code",
   "execution_count": 17,
   "id": "f3b5f9be",
   "metadata": {},
   "outputs": [],
   "source": [
    "weather_pipe = weather_prompt | llm.with_structured_output(OrchestratorFormater)"
   ]
  }
 ],
 "metadata": {
  "kernelspec": {
   "display_name": "base",
   "language": "python",
   "name": "python3"
  },
  "language_info": {
   "codemirror_mode": {
    "name": "ipython",
    "version": 3
   },
   "file_extension": ".py",
   "mimetype": "text/x-python",
   "name": "python",
   "nbconvert_exporter": "python",
   "pygments_lexer": "ipython3",
   "version": "3.13.5"
  }
 },
 "nbformat": 4,
 "nbformat_minor": 5
}
