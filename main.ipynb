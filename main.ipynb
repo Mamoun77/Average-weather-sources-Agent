{
 "cells": [
  {
   "cell_type": "code",
   "execution_count": 52,
   "id": "04af0d4f",
   "metadata": {},
   "outputs": [
    {
     "data": {
      "text/plain": [
       "True"
      ]
     },
     "execution_count": 52,
     "metadata": {},
     "output_type": "execute_result"
    }
   ],
   "source": [
    "from langgraph.graph import StateGraph, END, START\n",
    "from langchain_core.prompts import ChatPromptTemplate\n",
    "from langchain_google_genai import ChatGoogleGenerativeAI\n",
    "from dotenv import load_dotenv\n",
    "import os\n",
    "\n",
    "load_dotenv('credintials.env')"
   ]
  },
  {
   "cell_type": "code",
   "execution_count": 3,
   "id": "befbd54b",
   "metadata": {},
   "outputs": [],
   "source": [
    "# setting up the LLM\n",
    "\n",
    "llm = ChatGoogleGenerativeAI(\n",
    "    model=\"gemini-2.5-flash-lite\",\n",
    "    google_api_key=os.getenv(\"GOOGLE_API_KEY\")\n",
    ")"
   ]
  },
  {
   "cell_type": "code",
   "execution_count": 11,
   "id": "e8966a5f",
   "metadata": {},
   "outputs": [],
   "source": [
    "from pydantic import BaseModel, Field\n",
    "from typing import Literal, List\n",
    "\n",
    "class OrchestratorFormater(BaseModel):\n",
    "    city_name: str = Field(description=\"The name of the city to get the weather for.\")"
   ]
  },
  {
   "cell_type": "code",
   "execution_count": 15,
   "id": "93ae0755",
   "metadata": {},
   "outputs": [],
   "source": [
    "import requests\n",
    "\n",
    "def get_location_key(city_name, api_key):\n",
    "    \"\"\"Convert city name to AccuWeather location key\"\"\"\n",
    "    url = \"http://dataservice.accuweather.com/locations/v1/cities/search\"\n",
    "    params = {\n",
    "        \"apikey\": api_key,\n",
    "        \"q\": city_name\n",
    "    }\n",
    "    \n",
    "    response = requests.get(url, params=params)\n",
    "    data = response.json()\n",
    "\n",
    "    # print(data)  # See what you're getting\n",
    "\n",
    "\n",
    "    if data:\n",
    "        return data[0][\"Key\"]  # Returns location key\n",
    "    return None"
   ]
  },
  {
   "cell_type": "code",
   "execution_count": 16,
   "id": "38c3a4cf",
   "metadata": {},
   "outputs": [],
   "source": [
    "weather_prompt = ChatPromptTemplate.from_messages([\n",
    "    (\"system\", \"You are a weather agent that provides weather information based on user queries, you should extract the city name from the user query.\"),\n",
    "    (\"user\", \"{query}\")\n",
    "])"
   ]
  },
  {
   "cell_type": "code",
   "execution_count": 17,
   "id": "f3b5f9be",
   "metadata": {},
   "outputs": [],
   "source": [
    "weather_pipe = weather_prompt | llm.with_structured_output(OrchestratorFormater)"
   ]
  },
  {
   "cell_type": "code",
   "execution_count": 47,
   "id": "ce3f04b0",
   "metadata": {},
   "outputs": [],
   "source": [
    "from typing import TypedDict, Annotated, operator\n",
    "\n",
    "class State(TypedDict):\n",
    "    user_query: str\n",
    "    city_name: str\n",
    "    completed_weather_reports: Annotated[List[str], operator.add]\n",
    "    final_weather_report: str"
   ]
  },
  {
   "cell_type": "code",
   "execution_count": 48,
   "id": "4cc8e180",
   "metadata": {},
   "outputs": [],
   "source": [
    "def orchestrator_node(state: State):\n",
    "    response = weather_pipe.invoke({\"query\": state[\"user_query\"]})\n",
    "    return{\"city_name\": response.city_name}"
   ]
  },
  {
   "cell_type": "code",
   "execution_count": 49,
   "id": "8cf54fcb",
   "metadata": {},
   "outputs": [],
   "source": [
    "import requests\n",
    "def first_weather_source_node(state: State):\n",
    "    # this node uses the AccuWeather API to get the current weather conditions for the specified city\n",
    "\n",
    "    API_KEY = os.getenv(\"ACCUWEATHER_API_KEY\")\n",
    "    location_key = get_location_key(state[\"city_name\"], os.getenv(\"ACCUWEATHER_API_KEY\"))\n",
    "    BASE_URL = \"http://dataservice.accuweather.com\"\n",
    "\n",
    "    url = f\"{BASE_URL}/currentconditions/v1/{location_key}\"\n",
    "    params = {\n",
    "        \"apikey\": API_KEY,\n",
    "        \"details\": \"false\",\n",
    "        \"language\": \"en-us\"\n",
    "    }\n",
    "    response = requests.get(url, params=params)\n",
    "    response.raise_for_status()\n",
    "    data = response.json()\n",
    "    weather = data[0]\n",
    "\n",
    "    weather_report = weather['WeatherText']\n",
    "    temperature = f\"{weather['Temperature']['Metric']['Value']}°{weather['Temperature']['Metric']['Unit']}\"\n",
    "\n",
    "    return {\n",
    "        \"completed_weather_reports\": [f\"Source 1 - Weather: {weather_report}, Temperature: {temperature}\"]\n",
    "    }\n",
    "   "
   ]
  },
  {
   "cell_type": "code",
   "execution_count": 60,
   "id": "0cffb462",
   "metadata": {},
   "outputs": [],
   "source": [
    "def second_weather_source_node(state: State):\n",
    "\n",
    "    API_KEY = os.getenv(\"WEATHERAPI_API_KEY\")\n",
    "    BASE_URL = f\"https://api.weatherstack.com/current?access_key={API_KEY}\"\n",
    "\n",
    "    query = {\"query\": state[\"city_name\"]}\n",
    "\n",
    "    response = requests.get(BASE_URL, params=query)\n",
    "\n",
    "    data = response.json()\n",
    "\n",
    "    temp = data['current']['temperature']\n",
    "    feels_like = data['current']['feelslike']\n",
    "    weather = data['current']['weather_descriptions'][0]\n",
    "    humidity = data['current']['humidity']\n",
    "    wind_speed = data['current']['wind_speed']\n",
    "    pressure = data['current']['pressure']\n",
    "\n",
    "    weather_report = f\"temperature: {temp}, feels like: {feels_like}, weather: {weather}, humidity: {humidity}, wind speed: {wind_speed}, pressure: {pressure}\"\n",
    "\n",
    "    return {\n",
    "        \"completed_weather_reports\": [f\"Source 2 - {weather_report}\"]\n",
    "    } \n"
   ]
  },
  {
   "cell_type": "code",
   "execution_count": 61,
   "id": "3ac5ce8f",
   "metadata": {},
   "outputs": [],
   "source": [
    "joiner_prompt = ChatPromptTemplate.from_messages([\n",
    "    (\"system\", \"You are a weather report synthesizer. You will receive multiple weather reports from different sources. Your task is to combine these reports into a single, coherent weather summary.\"),\n",
    "    (\"user\", \"Here are the weather reports:\\n{completed_weather_reports}\\nPlease provide a final summarized weather report.\")\n",
    "])\n",
    "\n",
    "joiner_pipe = joiner_prompt | llm"
   ]
  },
  {
   "cell_type": "code",
   "execution_count": 62,
   "id": "57856bb3",
   "metadata": {},
   "outputs": [],
   "source": [
    "def synthesizer_node(state: State):\n",
    "    final_report = \" | \".join(state[\"completed_weather_reports\"])\n",
    "    \n",
    "    joiner_response = joiner_pipe.invoke({\"completed_weather_reports\": final_report})\n",
    "    return {\"final_weather_report\": joiner_response}"
   ]
  },
  {
   "cell_type": "code",
   "execution_count": null,
   "id": "87de8525",
   "metadata": {},
   "outputs": [],
   "source": []
  }
 ],
 "metadata": {
  "kernelspec": {
   "display_name": "base",
   "language": "python",
   "name": "python3"
  },
  "language_info": {
   "codemirror_mode": {
    "name": "ipython",
    "version": 3
   },
   "file_extension": ".py",
   "mimetype": "text/x-python",
   "name": "python",
   "nbconvert_exporter": "python",
   "pygments_lexer": "ipython3",
   "version": "3.13.5"
  }
 },
 "nbformat": 4,
 "nbformat_minor": 5
}
